{
 "cells": [
  {
   "cell_type": "code",
   "execution_count": 1,
   "metadata": {},
   "outputs": [],
   "source": [
    "import numpy as np\n",
    "import torch.nn as nn\n",
    "import torch.nn.functional as F\n",
    "import torch.optim as optim\n",
    "import torch.utils.data as data_utils\n",
    "import matplotlib.pyplot as plt\n",
    "import torch\n",
    "\n",
    "import torchvision\n",
    "import time\n",
    "\n",
    "from model import VAE, IVAE\n",
    "from train import train_geco_draw, train_beta_draw\n",
    "from utils import sample_vae, marginal_KL, Compute_NLL\n",
    "import datasets\n",
    "from conv_draw import ConvolutionalDRAW\n",
    "# from GECO import *\n",
    "# from beta_vae import *\n",
    "torch.cuda.set_device(5)\n",
    "\n",
    "\n",
    "%matplotlib inline"
   ]
  },
  {
   "cell_type": "code",
   "execution_count": 2,
   "metadata": {},
   "outputs": [],
   "source": [
    "# !nvidia-smi"
   ]
  },
  {
   "cell_type": "code",
   "execution_count": 3,
   "metadata": {},
   "outputs": [
    {
     "name": "stdout",
     "output_type": "stream",
     "text": [
      "cuda\n"
     ]
    }
   ],
   "source": [
    "if torch.cuda.is_available():\n",
    "    device = 'cuda'\n",
    "else:\n",
    "    device = 'cpu'\n",
    "print(device)\n",
    "# device = 'cpu'"
   ]
  },
  {
   "cell_type": "code",
   "execution_count": 4,
   "metadata": {},
   "outputs": [],
   "source": [
    "# !unzip data/celeba.zip\n",
    "def plot_gallery(images, h, w, n_row=3, n_col=6):\n",
    "    plt.figure(figsize=(1.5 * n_col, 1.7 * n_row))\n",
    "    plt.subplots_adjust(bottom=0, left=.01, right=.99, top=.90, hspace=.35)\n",
    "    for i in range(n_row * n_col):\n",
    "        plt.subplot(n_row, n_col, i + 1)\n",
    "        plt.imshow(images[i], cmap=plt.cm.gray, vmin=-1, vmax=1, interpolation='nearest')\n",
    "        plt.xticks(())\n",
    "        plt.yticks(())"
   ]
  },
  {
   "cell_type": "code",
   "execution_count": 5,
   "metadata": {},
   "outputs": [
    {
     "name": "stdout",
     "output_type": "stream",
     "text": [
      "Files already downloaded and verified\n",
      "Files already downloaded and verified\n"
     ]
    }
   ],
   "source": [
    "dataset = 'cifar10'\n",
    "\n",
    "if dataset == 'mnist':\n",
    "    train_set = datasets.MNIST('./data/'+dataset+'/',  download=True, train=True, \\\n",
    "                                            transform=torchvision.transforms.ToTensor())\n",
    "    test_set = datasets.MNIST('./data/'+dataset+'/',  download=True, train=False, \\\n",
    "                                            transform=torchvision.transforms.ToTensor())\n",
    "    input_size = (28, 28)\n",
    "    \n",
    "elif dataset == 'cifar10':\n",
    "    train_set = datasets.CIFAR10('./data/'+dataset+'/',  download=True, train=True, \\\n",
    "                                            transform=torchvision.transforms.ToTensor())\n",
    "    test_set = datasets.CIFAR10('./data/'+dataset+'/',  download=True, train=False, \\\n",
    "                                            transform=torchvision.transforms.ToTensor())\n",
    "    input_size = (32, 32)\n",
    "else:\n",
    "    train_set = datasets.CELEBA('./data/'+dataset+'/', train=True, \\\n",
    "                                            transform=torchvision.transforms.ToTensor())\n",
    "    test_set = datasets.CELEBA('./data/'+dataset+'/',  train=False, \\\n",
    "                                            transform=torchvision.transforms.ToTensor())\n",
    "    input_size = (218,178)\n",
    "    \n",
    "    \n",
    "batch_size = 300\n",
    "train_loader = torch.utils.data.DataLoader(train_set, batch_size=batch_size, shuffle=True, drop_last=True)\n",
    "test_loader = torch.utils.data.DataLoader(train_set, batch_size=batch_size, shuffle=True, drop_last=True)"
   ]
  },
  {
   "cell_type": "code",
   "execution_count": null,
   "metadata": {},
   "outputs": [],
   "source": []
  },
  {
   "cell_type": "code",
   "execution_count": null,
   "metadata": {},
   "outputs": [],
   "source": [
    "cd_model = ConvolutionalDRAW(x_dim = 3, x_shape = input_size, h_dim = 256, T = 1)\n",
    "optimizer = optim.Adam(cd_model.parameters(), lr=1e-3)\n",
    "scheduler = None\n",
    "\n",
    "train_geco_draw(cd_model, optimizer, scheduler, \n",
    "               train_loader = train_loader, \n",
    "               valid_loader = test_loader, \n",
    "               device = device, lbd_step = 100, \n",
    "               num_epochs=100, lambd_init = torch.FloatTensor([1]),\n",
    "               tol = 0.6, pretrain = 0)"
   ]
  },
  {
   "cell_type": "code",
   "execution_count": 9,
   "metadata": {},
   "outputs": [],
   "source": [
    "cd_model_beta05 = ConvolutionalDRAW(x_dim = 3, x_shape = input_size, h_dim = 256, T = 1)\n",
    "\n",
    "optimizer = optim.Adam(cd_model_beta05.parameters(), lr=1e-3)\n",
    "scheduler = optim.lr_scheduler.ReduceLROnPlateau(optimizer, 'min', patience=10, verbose=True)\n",
    "train_beta_draw(cd_model_beta05, optimizer, scheduler, train_loader, \n",
    "           test_loader, num_epochs=50, beta=0.5)"
   ]
  },
  {
   "cell_type": "code",
   "execution_count": null,
   "metadata": {},
   "outputs": [],
   "source": []
  },
  {
   "cell_type": "code",
   "execution_count": null,
   "metadata": {},
   "outputs": [],
   "source": []
  },
  {
   "cell_type": "code",
   "execution_count": null,
   "metadata": {},
   "outputs": [],
   "source": []
  }
 ],
 "metadata": {
  "kernelspec": {
   "display_name": "Python 3",
   "language": "python",
   "name": "python3"
  },
  "language_info": {
   "codemirror_mode": {
    "name": "ipython",
    "version": 3
   },
   "file_extension": ".py",
   "mimetype": "text/x-python",
   "name": "python",
   "nbconvert_exporter": "python",
   "pygments_lexer": "ipython3",
   "version": "3.5.2"
  }
 },
 "nbformat": 4,
 "nbformat_minor": 2
}
